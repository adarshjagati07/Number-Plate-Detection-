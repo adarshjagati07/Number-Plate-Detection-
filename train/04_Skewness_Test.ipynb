{
 "cells": [
  {
   "cell_type": "code",
   "execution_count": 40,
   "id": "1b4a2604-6d4f-4e28-a775-676bd12170c8",
   "metadata": {},
   "outputs": [
    {
     "ename": "TypeError",
     "evalue": "'NoneType' object is not iterable",
     "output_type": "error",
     "traceback": [
      "\u001b[1;31m---------------------------------------------------------------------------\u001b[0m",
      "\u001b[1;31mTypeError\u001b[0m                                 Traceback (most recent call last)",
      "Cell \u001b[1;32mIn[40], line 25\u001b[0m\n\u001b[0;32m     23\u001b[0m \u001b[38;5;66;03m# Calculate the angle of rotation\u001b[39;00m\n\u001b[0;32m     24\u001b[0m angles \u001b[38;5;241m=\u001b[39m []\n\u001b[1;32m---> 25\u001b[0m \u001b[38;5;28;01mfor\u001b[39;00m line \u001b[38;5;129;01min\u001b[39;00m lines:\n\u001b[0;32m     26\u001b[0m     x1, y1, x2, y2 \u001b[38;5;241m=\u001b[39m line[\u001b[38;5;241m0\u001b[39m]\n\u001b[0;32m     27\u001b[0m     angle \u001b[38;5;241m=\u001b[39m np\u001b[38;5;241m.\u001b[39mdegrees(np\u001b[38;5;241m.\u001b[39marctan2(y2 \u001b[38;5;241m-\u001b[39m y1, x2 \u001b[38;5;241m-\u001b[39m x1))\n",
      "\u001b[1;31mTypeError\u001b[0m: 'NoneType' object is not iterable"
     ]
    }
   ],
   "source": [
    "import cv2\n",
    "import numpy as np\n",
    "from skimage import io, color, filters, transform\n",
    "import matplotlib.pyplot as plt\n",
    "import pytesseract\n",
    "\n",
    "# Load the image\n",
    "image = io.imread('./test_images/skew_test2.jpg')\n",
    "\n",
    "# Convert the image to grayscale\n",
    "gray = color.rgb2gray(image)\n",
    "\n",
    "# Apply a threshold to binarize the image\n",
    "thresh = filters.threshold_otsu(gray)\n",
    "binary = gray > thresh\n",
    "\n",
    "# Invert the binary image\n",
    "binary = np.invert(binary)\n",
    "\n",
    "# Use Hough transform to detect lines in the image\n",
    "lines = cv2.HoughLinesP(binary.astype(np.uint8), 1, np.pi / 180, threshold=100, minLineLength=100, maxLineGap=10)\n",
    "\n",
    "# Calculate the angle of rotation\n",
    "angles = []\n",
    "for line in lines:\n",
    "    x1, y1, x2, y2 = line[0]\n",
    "    angle = np.degrees(np.arctan2(y2 - y1, x2 - x1))\n",
    "    angles.append(angle)\n",
    "median_angle = np.median(angles)\n",
    "\n",
    "# Rotate the image to correct skew\n",
    "rotated = transform.rotate(image, median_angle, resize=True, mode='edge')\n",
    "\n",
    "# Convert the rotated image to grayscale\n",
    "rotated_gray = color.rgb2gray(rotated)\n",
    "\n",
    "# Convert the grayscale image to 8-bit integer\n",
    "rotated_gray_uint8 = (rotated_gray * 255).astype(np.uint8)\n",
    "\n",
    "# Use pytesseract to extract text from the rotated grayscale image\n",
    "extracted_text = pytesseract.image_to_string(rotated_gray_uint8)\n",
    "\n",
    "print(\"Extracted Text:\")\n",
    "print(extracted_text)\n"
   ]
  },
  {
   "cell_type": "code",
   "execution_count": null,
   "id": "c958d189-3dff-4a29-a864-4f1cc0f27315",
   "metadata": {},
   "outputs": [],
   "source": []
  }
 ],
 "metadata": {
  "kernelspec": {
   "display_name": "Python 3 (ipykernel)",
   "language": "python",
   "name": "python3"
  },
  "language_info": {
   "codemirror_mode": {
    "name": "ipython",
    "version": 3
   },
   "file_extension": ".py",
   "mimetype": "text/x-python",
   "name": "python",
   "nbconvert_exporter": "python",
   "pygments_lexer": "ipython3",
   "version": "3.11.7"
  }
 },
 "nbformat": 4,
 "nbformat_minor": 5
}
